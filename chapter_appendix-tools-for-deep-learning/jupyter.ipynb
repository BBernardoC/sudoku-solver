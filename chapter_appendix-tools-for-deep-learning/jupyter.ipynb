{
  "cells": [
    {
      "cell_type": "markdown",
      "id": "31d9a4c9",
      "metadata": {
        "origin_pos": 0,
        "id": "31d9a4c9"
      },
      "source": [
        "Equipe: Bernardo Czizyk, Bruno Teider\n",
        "\n",
        "\n",
        "---\n",
        "\n",
        "\n",
        "\n",
        "1 – Verifique os quatro repositórios de dados abaixo e escolha uma base de dados para os\n",
        "trabalhos, atentando para as limitações de tamanho dela, conforme indicado pelo professor.\n",
        "\n",
        "Foi escolhido o database: https://www.kaggle.com/datasets/ankushpanday2/heart-attack-risk-and-prediction-dataset-in-india\n",
        "\n",
        "\n",
        "\n",
        "---\n",
        "\n",
        "2 – Para a base escolhida apresente as seguintes informações:\n",
        "\n",
        "\n",
        "*   Indicar o nome da base\n",
        "*   Que tipo de dado (ou problema) caracteriza esta base de dados, ou seja, o que se pode extrair de conhecimento a partir dos dados lá disponíveis;\n",
        "* Indicar quem forneceu esta base, a data da coleta dos dados (início e final), além de particularidades (por exemplo, a coleta foi interrompida durante um período e depois retomada);\n",
        "* Quantos atributos (variáveis) a base possui e para cada atributo indicar o tipo: nominal, ordinal, discreto, contínuo;\n",
        "* Indicar se existem informações já publicadas sobre seu uso e, em caso positivo, onde foi\n",
        "publicado, por quem, o quê\n",
        "\n",
        "Nome da base: Heart Attack Risk & Prediction Dataset In India\n",
        "\n",
        "Problema: Riscos de ataque cardiaco na India\n",
        "\n",
        "Fornecedor: Ankush Panday, durante\n",
        "---\n",
        "\n"
      ]
    },
    {
      "cell_type": "markdown",
      "source": [],
      "metadata": {
        "id": "pTTYwwXNYADU"
      },
      "id": "pTTYwwXNYADU"
    }
  ],
  "metadata": {
    "kernelspec": {
      "display_name": "Python 3",
      "name": "python3"
    },
    "language_info": {
      "name": "python"
    },
    "required_libs": [],
    "colab": {
      "provenance": []
    }
  },
  "nbformat": 4,
  "nbformat_minor": 5
}